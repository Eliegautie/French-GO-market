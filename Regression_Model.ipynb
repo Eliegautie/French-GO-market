{
 "cells": [
  {
   "cell_type": "code",
   "execution_count": 21,
   "id": "fad68b3d",
   "metadata": {},
   "outputs": [],
   "source": [
    "import numpy as np\n",
    "import pandas as pd\n",
    "import matplotlib.pyplot as plt"
   ]
  },
  {
   "cell_type": "code",
   "execution_count": 22,
   "id": "4d66c42c",
   "metadata": {},
   "outputs": [],
   "source": [
    "df = pd.read_csv(r'C:\\Users\\Elie\\Desktop\\Go\\Auction.csv')"
   ]
  },
  {
   "cell_type": "code",
   "execution_count": 23,
   "id": "1f9049fc",
   "metadata": {},
   "outputs": [],
   "source": [
    "df = df.set_index('Mois')"
   ]
  },
  {
   "cell_type": "code",
   "execution_count": 38,
   "id": "d74ff4c8",
   "metadata": {},
   "outputs": [
    {
     "data": {
      "text/html": [
       "<div>\n",
       "<style scoped>\n",
       "    .dataframe tbody tr th:only-of-type {\n",
       "        vertical-align: middle;\n",
       "    }\n",
       "\n",
       "    .dataframe tbody tr th {\n",
       "        vertical-align: top;\n",
       "    }\n",
       "\n",
       "    .dataframe thead th {\n",
       "        text-align: right;\n",
       "    }\n",
       "</style>\n",
       "<table border=\"1\" class=\"dataframe\">\n",
       "  <thead>\n",
       "    <tr style=\"text-align: right;\">\n",
       "      <th></th>\n",
       "      <th>Volume total moyen vendu 2019</th>\n",
       "      <th>Prix moyen pondéré 2019 (€ / MWh)</th>\n",
       "      <th>Volume total moyen vendu 2020</th>\n",
       "      <th>Prix moyen pondéré 2020(€ / MWh)</th>\n",
       "      <th>Volume total moyen vendu 2021</th>\n",
       "      <th>Prix moyen pondéré 2021(€ / MWh)</th>\n",
       "      <th>Volume total moyen vendu 2022</th>\n",
       "      <th>Prix moyen pondéré 2022(€ / MWh)</th>\n",
       "      <th>Volume total moyen vendu 2023</th>\n",
       "      <th>Prix moyen pondéré 2023(€ / MWh)</th>\n",
       "    </tr>\n",
       "    <tr>\n",
       "      <th>Mois</th>\n",
       "      <th></th>\n",
       "      <th></th>\n",
       "      <th></th>\n",
       "      <th></th>\n",
       "      <th></th>\n",
       "      <th></th>\n",
       "      <th></th>\n",
       "      <th></th>\n",
       "      <th></th>\n",
       "      <th></th>\n",
       "    </tr>\n",
       "  </thead>\n",
       "  <tbody>\n",
       "    <tr>\n",
       "      <th>January</th>\n",
       "      <td>NaN</td>\n",
       "      <td>NaN</td>\n",
       "      <td>60244.139</td>\n",
       "      <td>0.1940</td>\n",
       "      <td>59720.333</td>\n",
       "      <td>0.304</td>\n",
       "      <td>104030.861</td>\n",
       "      <td>1.959</td>\n",
       "      <td>123847.056</td>\n",
       "      <td>7.435</td>\n",
       "    </tr>\n",
       "    <tr>\n",
       "      <th>February</th>\n",
       "      <td>NaN</td>\n",
       "      <td>NaN</td>\n",
       "      <td>82006.833</td>\n",
       "      <td>0.1780</td>\n",
       "      <td>100012.639</td>\n",
       "      <td>0.526</td>\n",
       "      <td>148184.167</td>\n",
       "      <td>1.892</td>\n",
       "      <td>81961.611</td>\n",
       "      <td>7.576</td>\n",
       "    </tr>\n",
       "    <tr>\n",
       "      <th>March</th>\n",
       "      <td>69049.69</td>\n",
       "      <td>0.303</td>\n",
       "      <td>36138.660</td>\n",
       "      <td>0.2240</td>\n",
       "      <td>96112.278</td>\n",
       "      <td>0.428</td>\n",
       "      <td>116637.694</td>\n",
       "      <td>1.906</td>\n",
       "      <td>137415.750</td>\n",
       "      <td>6.096</td>\n",
       "    </tr>\n",
       "    <tr>\n",
       "      <th>April</th>\n",
       "      <td>41429.36</td>\n",
       "      <td>0.731</td>\n",
       "      <td>41960.710</td>\n",
       "      <td>0.2180</td>\n",
       "      <td>82881.833</td>\n",
       "      <td>0.454</td>\n",
       "      <td>117951.750</td>\n",
       "      <td>2.229</td>\n",
       "      <td>104428.639</td>\n",
       "      <td>5.830</td>\n",
       "    </tr>\n",
       "    <tr>\n",
       "      <th>May</th>\n",
       "      <td>43027.53</td>\n",
       "      <td>0.504</td>\n",
       "      <td>11488.370</td>\n",
       "      <td>0.3090</td>\n",
       "      <td>106782.890</td>\n",
       "      <td>0.442</td>\n",
       "      <td>99015.806</td>\n",
       "      <td>3.242</td>\n",
       "      <td>105718.639</td>\n",
       "      <td>5.259</td>\n",
       "    </tr>\n",
       "    <tr>\n",
       "      <th>June</th>\n",
       "      <td>37495.61</td>\n",
       "      <td>0.491</td>\n",
       "      <td>40052.230</td>\n",
       "      <td>0.1850</td>\n",
       "      <td>55555.310</td>\n",
       "      <td>0.773</td>\n",
       "      <td>79110.833</td>\n",
       "      <td>3.722</td>\n",
       "      <td>NaN</td>\n",
       "      <td>NaN</td>\n",
       "    </tr>\n",
       "    <tr>\n",
       "      <th>July</th>\n",
       "      <td>33228.89</td>\n",
       "      <td>0.326</td>\n",
       "      <td>14753.240</td>\n",
       "      <td>0.2140</td>\n",
       "      <td>89229.530</td>\n",
       "      <td>0.770</td>\n",
       "      <td>78357.722</td>\n",
       "      <td>5.383</td>\n",
       "      <td>NaN</td>\n",
       "      <td>NaN</td>\n",
       "    </tr>\n",
       "    <tr>\n",
       "      <th>August</th>\n",
       "      <td>30683.64</td>\n",
       "      <td>0.333</td>\n",
       "      <td>15740.960</td>\n",
       "      <td>0.2148</td>\n",
       "      <td>86531.830</td>\n",
       "      <td>0.796</td>\n",
       "      <td>78165.667</td>\n",
       "      <td>7.882</td>\n",
       "      <td>NaN</td>\n",
       "      <td>NaN</td>\n",
       "    </tr>\n",
       "    <tr>\n",
       "      <th>September</th>\n",
       "      <td>41523.00</td>\n",
       "      <td>0.229</td>\n",
       "      <td>34494.611</td>\n",
       "      <td>0.1190</td>\n",
       "      <td>65451.390</td>\n",
       "      <td>0.672</td>\n",
       "      <td>76102.750</td>\n",
       "      <td>6.027</td>\n",
       "      <td>NaN</td>\n",
       "      <td>NaN</td>\n",
       "    </tr>\n",
       "    <tr>\n",
       "      <th>October</th>\n",
       "      <td>25678.77</td>\n",
       "      <td>0.151</td>\n",
       "      <td>30950.070</td>\n",
       "      <td>0.1430</td>\n",
       "      <td>109253.060</td>\n",
       "      <td>0.765</td>\n",
       "      <td>89861.083</td>\n",
       "      <td>7.634</td>\n",
       "      <td>NaN</td>\n",
       "      <td>NaN</td>\n",
       "    </tr>\n",
       "    <tr>\n",
       "      <th>November</th>\n",
       "      <td>25254.41</td>\n",
       "      <td>0.178</td>\n",
       "      <td>32119.000</td>\n",
       "      <td>0.1720</td>\n",
       "      <td>84726.970</td>\n",
       "      <td>1.179</td>\n",
       "      <td>114393.260</td>\n",
       "      <td>4.795</td>\n",
       "      <td>NaN</td>\n",
       "      <td>NaN</td>\n",
       "    </tr>\n",
       "    <tr>\n",
       "      <th>December</th>\n",
       "      <td>14064.18</td>\n",
       "      <td>0.253</td>\n",
       "      <td>70128.130</td>\n",
       "      <td>0.1390</td>\n",
       "      <td>128581.670</td>\n",
       "      <td>0.840</td>\n",
       "      <td>100980.111</td>\n",
       "      <td>6.081</td>\n",
       "      <td>NaN</td>\n",
       "      <td>NaN</td>\n",
       "    </tr>\n",
       "  </tbody>\n",
       "</table>\n",
       "</div>"
      ],
      "text/plain": [
       "           Volume total moyen vendu 2019  Prix moyen pondéré 2019 (€ / MWh)  \\\n",
       "Mois                                                                          \n",
       "January                              NaN                                NaN   \n",
       "February                             NaN                                NaN   \n",
       "March                           69049.69                              0.303   \n",
       "April                           41429.36                              0.731   \n",
       "May                             43027.53                              0.504   \n",
       "June                            37495.61                              0.491   \n",
       "July                            33228.89                              0.326   \n",
       "August                          30683.64                              0.333   \n",
       "September                       41523.00                              0.229   \n",
       "October                         25678.77                              0.151   \n",
       "November                        25254.41                              0.178   \n",
       "December                        14064.18                              0.253   \n",
       "\n",
       "           Volume total moyen vendu 2020  Prix moyen pondéré 2020(€ / MWh)  \\\n",
       "Mois                                                                         \n",
       "January                        60244.139                            0.1940   \n",
       "February                       82006.833                            0.1780   \n",
       "March                          36138.660                            0.2240   \n",
       "April                          41960.710                            0.2180   \n",
       "May                            11488.370                            0.3090   \n",
       "June                           40052.230                            0.1850   \n",
       "July                           14753.240                            0.2140   \n",
       "August                         15740.960                            0.2148   \n",
       "September                      34494.611                            0.1190   \n",
       "October                        30950.070                            0.1430   \n",
       "November                       32119.000                            0.1720   \n",
       "December                       70128.130                            0.1390   \n",
       "\n",
       "           Volume total moyen vendu 2021  Prix moyen pondéré 2021(€ / MWh)  \\\n",
       "Mois                                                                         \n",
       "January                        59720.333                             0.304   \n",
       "February                      100012.639                             0.526   \n",
       "March                          96112.278                             0.428   \n",
       "April                          82881.833                             0.454   \n",
       "May                           106782.890                             0.442   \n",
       "June                           55555.310                             0.773   \n",
       "July                           89229.530                             0.770   \n",
       "August                         86531.830                             0.796   \n",
       "September                      65451.390                             0.672   \n",
       "October                       109253.060                             0.765   \n",
       "November                       84726.970                             1.179   \n",
       "December                      128581.670                             0.840   \n",
       "\n",
       "           Volume total moyen vendu 2022  Prix moyen pondéré 2022(€ / MWh)  \\\n",
       "Mois                                                                         \n",
       "January                       104030.861                             1.959   \n",
       "February                      148184.167                             1.892   \n",
       "March                         116637.694                             1.906   \n",
       "April                         117951.750                             2.229   \n",
       "May                            99015.806                             3.242   \n",
       "June                           79110.833                             3.722   \n",
       "July                           78357.722                             5.383   \n",
       "August                         78165.667                             7.882   \n",
       "September                      76102.750                             6.027   \n",
       "October                        89861.083                             7.634   \n",
       "November                      114393.260                             4.795   \n",
       "December                      100980.111                             6.081   \n",
       "\n",
       "           Volume total moyen vendu 2023  Prix moyen pondéré 2023(€ / MWh)  \n",
       "Mois                                                                        \n",
       "January                       123847.056                             7.435  \n",
       "February                       81961.611                             7.576  \n",
       "March                         137415.750                             6.096  \n",
       "April                         104428.639                             5.830  \n",
       "May                           105718.639                             5.259  \n",
       "June                                 NaN                               NaN  \n",
       "July                                 NaN                               NaN  \n",
       "August                               NaN                               NaN  \n",
       "September                            NaN                               NaN  \n",
       "October                              NaN                               NaN  \n",
       "November                             NaN                               NaN  \n",
       "December                             NaN                               NaN  "
      ]
     },
     "execution_count": 38,
     "metadata": {},
     "output_type": "execute_result"
    }
   ],
   "source": [
    "df"
   ]
  },
  {
   "cell_type": "code",
   "execution_count": 24,
   "id": "ba6caa3c",
   "metadata": {},
   "outputs": [],
   "source": [
    "Vol_2019 = df['Volume total moyen vendu 2019'][2:].to_list()\n",
    "Vol_2020 = df['Volume total moyen vendu 2020'].to_list()\n",
    "Vol_2021 = df['Volume total moyen vendu 2021'].to_list()\n",
    "Vol_2022 = df['Volume total moyen vendu 2022'].to_list()\n",
    "Vol_2023 = df['Volume total moyen vendu 2023'][:5].to_list()\n",
    "\n",
    "prix_2019 = df[df.columns[1]][2:].to_list()\n",
    "prix_2020 = df[df.columns[3]].to_list()\n",
    "prix_2021 = df[df.columns[5]].to_list()\n",
    "prix_2022 = df[df.columns[7]].to_list()\n",
    "prix_2023 = df[df.columns[9]][:5].to_list()"
   ]
  },
  {
   "cell_type": "code",
   "execution_count": 25,
   "id": "7db32231",
   "metadata": {},
   "outputs": [],
   "source": [
    "X = Vol_2019 + Vol_2020 + Vol_2021 + Vol_2022 + Vol_2023\n",
    "y = prix_2019 + prix_2020 + prix_2021 + prix_2022 + prix_2023"
   ]
  },
  {
   "cell_type": "markdown",
   "id": "977f182f",
   "metadata": {},
   "source": [
    "**Regression (année d'étude : 2020-2023)**"
   ]
  },
  {
   "cell_type": "code",
   "execution_count": 26,
   "id": "b20742bb",
   "metadata": {},
   "outputs": [],
   "source": [
    "from sklearn.model_selection import train_test_split\n",
    "X_train, X_test, y_train, y_test = train_test_split(X, y, test_size = 1/3, random_state = 0)\n",
    "\n",
    "# Convert to numpy array\n",
    "X_train = np.array(X_train)\n",
    "X_test = np.array(X_train)\n",
    "\n",
    "# Reshape\n",
    "X_train = X_train.reshape(-1, 1)\n",
    "X_test = X_test.reshape(-1, 1)"
   ]
  },
  {
   "cell_type": "code",
   "execution_count": 27,
   "id": "15a5f606",
   "metadata": {},
   "outputs": [
    {
     "data": {
      "text/html": [
       "<style>#sk-container-id-3 {color: black;}#sk-container-id-3 pre{padding: 0;}#sk-container-id-3 div.sk-toggleable {background-color: white;}#sk-container-id-3 label.sk-toggleable__label {cursor: pointer;display: block;width: 100%;margin-bottom: 0;padding: 0.3em;box-sizing: border-box;text-align: center;}#sk-container-id-3 label.sk-toggleable__label-arrow:before {content: \"▸\";float: left;margin-right: 0.25em;color: #696969;}#sk-container-id-3 label.sk-toggleable__label-arrow:hover:before {color: black;}#sk-container-id-3 div.sk-estimator:hover label.sk-toggleable__label-arrow:before {color: black;}#sk-container-id-3 div.sk-toggleable__content {max-height: 0;max-width: 0;overflow: hidden;text-align: left;background-color: #f0f8ff;}#sk-container-id-3 div.sk-toggleable__content pre {margin: 0.2em;color: black;border-radius: 0.25em;background-color: #f0f8ff;}#sk-container-id-3 input.sk-toggleable__control:checked~div.sk-toggleable__content {max-height: 200px;max-width: 100%;overflow: auto;}#sk-container-id-3 input.sk-toggleable__control:checked~label.sk-toggleable__label-arrow:before {content: \"▾\";}#sk-container-id-3 div.sk-estimator input.sk-toggleable__control:checked~label.sk-toggleable__label {background-color: #d4ebff;}#sk-container-id-3 div.sk-label input.sk-toggleable__control:checked~label.sk-toggleable__label {background-color: #d4ebff;}#sk-container-id-3 input.sk-hidden--visually {border: 0;clip: rect(1px 1px 1px 1px);clip: rect(1px, 1px, 1px, 1px);height: 1px;margin: -1px;overflow: hidden;padding: 0;position: absolute;width: 1px;}#sk-container-id-3 div.sk-estimator {font-family: monospace;background-color: #f0f8ff;border: 1px dotted black;border-radius: 0.25em;box-sizing: border-box;margin-bottom: 0.5em;}#sk-container-id-3 div.sk-estimator:hover {background-color: #d4ebff;}#sk-container-id-3 div.sk-parallel-item::after {content: \"\";width: 100%;border-bottom: 1px solid gray;flex-grow: 1;}#sk-container-id-3 div.sk-label:hover label.sk-toggleable__label {background-color: #d4ebff;}#sk-container-id-3 div.sk-serial::before {content: \"\";position: absolute;border-left: 1px solid gray;box-sizing: border-box;top: 0;bottom: 0;left: 50%;z-index: 0;}#sk-container-id-3 div.sk-serial {display: flex;flex-direction: column;align-items: center;background-color: white;padding-right: 0.2em;padding-left: 0.2em;position: relative;}#sk-container-id-3 div.sk-item {position: relative;z-index: 1;}#sk-container-id-3 div.sk-parallel {display: flex;align-items: stretch;justify-content: center;background-color: white;position: relative;}#sk-container-id-3 div.sk-item::before, #sk-container-id-3 div.sk-parallel-item::before {content: \"\";position: absolute;border-left: 1px solid gray;box-sizing: border-box;top: 0;bottom: 0;left: 50%;z-index: -1;}#sk-container-id-3 div.sk-parallel-item {display: flex;flex-direction: column;z-index: 1;position: relative;background-color: white;}#sk-container-id-3 div.sk-parallel-item:first-child::after {align-self: flex-end;width: 50%;}#sk-container-id-3 div.sk-parallel-item:last-child::after {align-self: flex-start;width: 50%;}#sk-container-id-3 div.sk-parallel-item:only-child::after {width: 0;}#sk-container-id-3 div.sk-dashed-wrapped {border: 1px dashed gray;margin: 0 0.4em 0.5em 0.4em;box-sizing: border-box;padding-bottom: 0.4em;background-color: white;}#sk-container-id-3 div.sk-label label {font-family: monospace;font-weight: bold;display: inline-block;line-height: 1.2em;}#sk-container-id-3 div.sk-label-container {text-align: center;}#sk-container-id-3 div.sk-container {/* jupyter's `normalize.less` sets `[hidden] { display: none; }` but bootstrap.min.css set `[hidden] { display: none !important; }` so we also need the `!important` here to be able to override the default hidden behavior on the sphinx rendered scikit-learn.org. See: https://github.com/scikit-learn/scikit-learn/issues/21755 */display: inline-block !important;position: relative;}#sk-container-id-3 div.sk-text-repr-fallback {display: none;}</style><div id=\"sk-container-id-3\" class=\"sk-top-container\"><div class=\"sk-text-repr-fallback\"><pre>LinearRegression()</pre><b>In a Jupyter environment, please rerun this cell to show the HTML representation or trust the notebook. <br />On GitHub, the HTML representation is unable to render, please try loading this page with nbviewer.org.</b></div><div class=\"sk-container\" hidden><div class=\"sk-item\"><div class=\"sk-estimator sk-toggleable\"><input class=\"sk-toggleable__control sk-hidden--visually\" id=\"sk-estimator-id-3\" type=\"checkbox\" checked><label for=\"sk-estimator-id-3\" class=\"sk-toggleable__label sk-toggleable__label-arrow\">LinearRegression</label><div class=\"sk-toggleable__content\"><pre>LinearRegression()</pre></div></div></div></div></div>"
      ],
      "text/plain": [
       "LinearRegression()"
      ]
     },
     "execution_count": 27,
     "metadata": {},
     "output_type": "execute_result"
    }
   ],
   "source": [
    "from sklearn import datasets, linear_model\n",
    "\n",
    "# Model\n",
    "\n",
    "from sklearn.linear_model import LinearRegression\n",
    "regressor = linear_model.LinearRegression()\n",
    "regressor.fit(X_train, y_train)"
   ]
  },
  {
   "cell_type": "code",
   "execution_count": 28,
   "id": "23006285",
   "metadata": {},
   "outputs": [
    {
     "data": {
      "text/plain": [
       "[<matplotlib.lines.Line2D at 0x134783cfd10>]"
      ]
     },
     "execution_count": 28,
     "metadata": {},
     "output_type": "execute_result"
    },
    {
     "data": {
      "image/png": "[encoded data removed]",
      "text/plain": [
       "<Figure size 640x480 with 1 Axes>"
      ]
     },
     "metadata": {},
     "output_type": "display_data"
    }
   ],
   "source": [
    "# Visualising the Training set results\n",
    "\n",
    "plt.scatter(X_train, y_train, color = 'red')\n",
    "plt.plot(X_train, regressor.predict(X_train), color = 'blue')"
   ]
  },
  {
   "cell_type": "code",
   "execution_count": 29,
   "id": "49b7adee",
   "metadata": {},
   "outputs": [],
   "source": [
    "# Convert to numpy array\n",
    "X = np.array(X)\n",
    "X = np.array(X)\n",
    "\n",
    "# Reshape\n",
    "X = X.reshape(-1, 1)\n",
    "X = X.reshape(-1, 1)"
   ]
  },
  {
   "cell_type": "code",
   "execution_count": 30,
   "id": "e70c68c6",
   "metadata": {},
   "outputs": [
    {
     "data": {
      "text/plain": [
       "0.21931565819096732"
      ]
     },
     "execution_count": 30,
     "metadata": {},
     "output_type": "execute_result"
    }
   ],
   "source": [
    "regressor.score(X,y)"
   ]
  },
  {
   "cell_type": "markdown",
   "id": "83f4d90a",
   "metadata": {},
   "source": [
    "**Regression (année d'étude : 2019-2021)**"
   ]
  },
  {
   "cell_type": "code",
   "execution_count": 31,
   "id": "20b5b64a",
   "metadata": {},
   "outputs": [],
   "source": [
    "X = Vol_2019 + Vol_2020 + Vol_2021 \n",
    "y = prix_2019 + prix_2020 + prix_2021"
   ]
  },
  {
   "cell_type": "code",
   "execution_count": 32,
   "id": "bc99e6fc",
   "metadata": {},
   "outputs": [],
   "source": [
    "from sklearn.model_selection import train_test_split\n",
    "X_train, X_test, y_train, y_test = train_test_split(X, y, test_size = 1/3, random_state = 0)\n",
    "\n",
    "# Convert to numpy array\n",
    "X_train = np.array(X_train)\n",
    "X_test = np.array(X_train)\n",
    "\n",
    "# Reshape\n",
    "X_train = X_train.reshape(-1, 1)\n",
    "X_test = X_test.reshape(-1, 1)"
   ]
  },
  {
   "cell_type": "code",
   "execution_count": 33,
   "id": "e86cc980",
   "metadata": {},
   "outputs": [
    {
     "data": {
      "text/html": [
       "<style>#sk-container-id-4 {color: black;}#sk-container-id-4 pre{padding: 0;}#sk-container-id-4 div.sk-toggleable {background-color: white;}#sk-container-id-4 label.sk-toggleable__label {cursor: pointer;display: block;width: 100%;margin-bottom: 0;padding: 0.3em;box-sizing: border-box;text-align: center;}#sk-container-id-4 label.sk-toggleable__label-arrow:before {content: \"▸\";float: left;margin-right: 0.25em;color: #696969;}#sk-container-id-4 label.sk-toggleable__label-arrow:hover:before {color: black;}#sk-container-id-4 div.sk-estimator:hover label.sk-toggleable__label-arrow:before {color: black;}#sk-container-id-4 div.sk-toggleable__content {max-height: 0;max-width: 0;overflow: hidden;text-align: left;background-color: #f0f8ff;}#sk-container-id-4 div.sk-toggleable__content pre {margin: 0.2em;color: black;border-radius: 0.25em;background-color: #f0f8ff;}#sk-container-id-4 input.sk-toggleable__control:checked~div.sk-toggleable__content {max-height: 200px;max-width: 100%;overflow: auto;}#sk-container-id-4 input.sk-toggleable__control:checked~label.sk-toggleable__label-arrow:before {content: \"▾\";}#sk-container-id-4 div.sk-estimator input.sk-toggleable__control:checked~label.sk-toggleable__label {background-color: #d4ebff;}#sk-container-id-4 div.sk-label input.sk-toggleable__control:checked~label.sk-toggleable__label {background-color: #d4ebff;}#sk-container-id-4 input.sk-hidden--visually {border: 0;clip: rect(1px 1px 1px 1px);clip: rect(1px, 1px, 1px, 1px);height: 1px;margin: -1px;overflow: hidden;padding: 0;position: absolute;width: 1px;}#sk-container-id-4 div.sk-estimator {font-family: monospace;background-color: #f0f8ff;border: 1px dotted black;border-radius: 0.25em;box-sizing: border-box;margin-bottom: 0.5em;}#sk-container-id-4 div.sk-estimator:hover {background-color: #d4ebff;}#sk-container-id-4 div.sk-parallel-item::after {content: \"\";width: 100%;border-bottom: 1px solid gray;flex-grow: 1;}#sk-container-id-4 div.sk-label:hover label.sk-toggleable__label {background-color: #d4ebff;}#sk-container-id-4 div.sk-serial::before {content: \"\";position: absolute;border-left: 1px solid gray;box-sizing: border-box;top: 0;bottom: 0;left: 50%;z-index: 0;}#sk-container-id-4 div.sk-serial {display: flex;flex-direction: column;align-items: center;background-color: white;padding-right: 0.2em;padding-left: 0.2em;position: relative;}#sk-container-id-4 div.sk-item {position: relative;z-index: 1;}#sk-container-id-4 div.sk-parallel {display: flex;align-items: stretch;justify-content: center;background-color: white;position: relative;}#sk-container-id-4 div.sk-item::before, #sk-container-id-4 div.sk-parallel-item::before {content: \"\";position: absolute;border-left: 1px solid gray;box-sizing: border-box;top: 0;bottom: 0;left: 50%;z-index: -1;}#sk-container-id-4 div.sk-parallel-item {display: flex;flex-direction: column;z-index: 1;position: relative;background-color: white;}#sk-container-id-4 div.sk-parallel-item:first-child::after {align-self: flex-end;width: 50%;}#sk-container-id-4 div.sk-parallel-item:last-child::after {align-self: flex-start;width: 50%;}#sk-container-id-4 div.sk-parallel-item:only-child::after {width: 0;}#sk-container-id-4 div.sk-dashed-wrapped {border: 1px dashed gray;margin: 0 0.4em 0.5em 0.4em;box-sizing: border-box;padding-bottom: 0.4em;background-color: white;}#sk-container-id-4 div.sk-label label {font-family: monospace;font-weight: bold;display: inline-block;line-height: 1.2em;}#sk-container-id-4 div.sk-label-container {text-align: center;}#sk-container-id-4 div.sk-container {/* jupyter's `normalize.less` sets `[hidden] { display: none; }` but bootstrap.min.css set `[hidden] { display: none !important; }` so we also need the `!important` here to be able to override the default hidden behavior on the sphinx rendered scikit-learn.org. See: https://github.com/scikit-learn/scikit-learn/issues/21755 */display: inline-block !important;position: relative;}#sk-container-id-4 div.sk-text-repr-fallback {display: none;}</style><div id=\"sk-container-id-4\" class=\"sk-top-container\"><div class=\"sk-text-repr-fallback\"><pre>LinearRegression()</pre><b>In a Jupyter environment, please rerun this cell to show the HTML representation or trust the notebook. <br />On GitHub, the HTML representation is unable to render, please try loading this page with nbviewer.org.</b></div><div class=\"sk-container\" hidden><div class=\"sk-item\"><div class=\"sk-estimator sk-toggleable\"><input class=\"sk-toggleable__control sk-hidden--visually\" id=\"sk-estimator-id-4\" type=\"checkbox\" checked><label for=\"sk-estimator-id-4\" class=\"sk-toggleable__label sk-toggleable__label-arrow\">LinearRegression</label><div class=\"sk-toggleable__content\"><pre>LinearRegression()</pre></div></div></div></div></div>"
      ],
      "text/plain": [
       "LinearRegression()"
      ]
     },
     "execution_count": 33,
     "metadata": {},
     "output_type": "execute_result"
    }
   ],
   "source": [
    "from sklearn import datasets, linear_model\n",
    "\n",
    "# Model\n",
    "\n",
    "from sklearn.linear_model import LinearRegression\n",
    "regressor = linear_model.LinearRegression()\n",
    "regressor.fit(X_train, y_train)"
   ]
  },
  {
   "cell_type": "code",
   "execution_count": 34,
   "id": "6a18e756",
   "metadata": {},
   "outputs": [
    {
     "data": {
      "text/plain": [
       "[<matplotlib.lines.Line2D at 0x13478269490>]"
      ]
     },
     "execution_count": 34,
     "metadata": {},
     "output_type": "execute_result"
    },
    {
     "data": {
      "image/png": "[encoded data removed]",
      "text/plain": [
       "<Figure size 640x480 with 1 Axes>"
      ]
     },
     "metadata": {},
     "output_type": "display_data"
    }
   ],
   "source": [
    "# Visualising the Training set results\n",
    "\n",
    "plt.scatter(X_train, y_train, color = 'red')\n",
    "plt.plot(X_train, regressor.predict(X_train), color = 'blue')"
   ]
  },
  {
   "cell_type": "code",
   "execution_count": 35,
   "id": "64d34987",
   "metadata": {},
   "outputs": [],
   "source": [
    "# Convert to numpy array\n",
    "X = np.array(X)\n",
    "X = np.array(X)\n",
    "\n",
    "# Reshape\n",
    "X = X.reshape(-1, 1)\n",
    "X = X.reshape(-1, 1)"
   ]
  },
  {
   "cell_type": "code",
   "execution_count": 36,
   "id": "a18e940d",
   "metadata": {},
   "outputs": [
    {
     "data": {
      "text/plain": [
       "0.28109038866678826"
      ]
     },
     "execution_count": 36,
     "metadata": {},
     "output_type": "execute_result"
    }
   ],
   "source": [
    "regressor.score(X,y)"
   ]
  },
  {
   "cell_type": "code",
   "execution_count": 37,
   "id": "77bc637c",
   "metadata": {},
   "outputs": [],
   "source": [
    "# mauvais score pour les deux régressions"
   ]
  }
 ],
 "metadata": {
  "kernelspec": {
   "display_name": "Python 3 (ipykernel)",
   "language": "python",
   "name": "python3"
  },
  "language_info": {
   "codemirror_mode": {
    "name": "ipython",
    "version": 3
   },
   "file_extension": ".py",
   "mimetype": "text/x-python",
   "name": "python",
   "nbconvert_exporter": "python",
   "pygments_lexer": "ipython3",
   "version": "3.11.4"
  }
 },
 "nbformat": 4,
 "nbformat_minor": 5
}
