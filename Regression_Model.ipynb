{
 "cells": [
  {
   "cell_type": "code",
   "execution_count": 54,
   "id": "fad68b3d",
   "metadata": {},
   "outputs": [],
   "source": [
    "import numpy as np\n",
    "import pandas as pd\n",
    "import matplotlib.pyplot as plt"
   ]
  },
  {
   "cell_type": "code",
   "execution_count": 55,
   "id": "4d66c42c",
   "metadata": {},
   "outputs": [],
   "source": [
    "df = pd.read_csv(r'C:\\Users\\Elie\\Desktop\\Go\\Auction.csv')"
   ]
  },
  {
   "cell_type": "code",
   "execution_count": 56,
   "id": "1f9049fc",
   "metadata": {},
   "outputs": [
    {
     "data": {
      "text/html": [
       "<div>\n",
       "<style scoped>\n",
       "    .dataframe tbody tr th:only-of-type {\n",
       "        vertical-align: middle;\n",
       "    }\n",
       "\n",
       "    .dataframe tbody tr th {\n",
       "        vertical-align: top;\n",
       "    }\n",
       "\n",
       "    .dataframe thead th {\n",
       "        text-align: right;\n",
       "    }\n",
       "</style>\n",
       "<table border=\"1\" class=\"dataframe\">\n",
       "  <thead>\n",
       "    <tr style=\"text-align: right;\">\n",
       "      <th></th>\n",
       "      <th>Mois</th>\n",
       "      <th>Vol_2019</th>\n",
       "      <th>Price_2019</th>\n",
       "      <th>Vol_2020</th>\n",
       "      <th>Price_2020</th>\n",
       "      <th>Vol_2021</th>\n",
       "      <th>Price_2021</th>\n",
       "      <th>Vol_2022</th>\n",
       "      <th>Price_2022</th>\n",
       "      <th>Vol_2023</th>\n",
       "      <th>Price_2023</th>\n",
       "    </tr>\n",
       "  </thead>\n",
       "  <tbody>\n",
       "    <tr>\n",
       "      <th>0</th>\n",
       "      <td>January</td>\n",
       "      <td>NaN</td>\n",
       "      <td>NaN</td>\n",
       "      <td>60244.139</td>\n",
       "      <td>0.194</td>\n",
       "      <td>59720.333</td>\n",
       "      <td>0.304</td>\n",
       "      <td>104030.861</td>\n",
       "      <td>1.959</td>\n",
       "      <td>123847.056</td>\n",
       "      <td>7.435</td>\n",
       "    </tr>\n",
       "    <tr>\n",
       "      <th>1</th>\n",
       "      <td>February</td>\n",
       "      <td>NaN</td>\n",
       "      <td>NaN</td>\n",
       "      <td>82006.833</td>\n",
       "      <td>0.178</td>\n",
       "      <td>100012.639</td>\n",
       "      <td>0.526</td>\n",
       "      <td>148184.167</td>\n",
       "      <td>1.892</td>\n",
       "      <td>81961.611</td>\n",
       "      <td>7.576</td>\n",
       "    </tr>\n",
       "    <tr>\n",
       "      <th>2</th>\n",
       "      <td>March</td>\n",
       "      <td>29111.694</td>\n",
       "      <td>0.181</td>\n",
       "      <td>29111.694</td>\n",
       "      <td>0.181</td>\n",
       "      <td>96112.278</td>\n",
       "      <td>0.428</td>\n",
       "      <td>116637.694</td>\n",
       "      <td>1.906</td>\n",
       "      <td>137415.750</td>\n",
       "      <td>6.096</td>\n",
       "    </tr>\n",
       "    <tr>\n",
       "      <th>3</th>\n",
       "      <td>April</td>\n",
       "      <td>36132.833</td>\n",
       "      <td>0.188</td>\n",
       "      <td>36132.833</td>\n",
       "      <td>0.188</td>\n",
       "      <td>82881.833</td>\n",
       "      <td>0.454</td>\n",
       "      <td>117951.750</td>\n",
       "      <td>2.229</td>\n",
       "      <td>104428.639</td>\n",
       "      <td>5.830</td>\n",
       "    </tr>\n",
       "    <tr>\n",
       "      <th>4</th>\n",
       "      <td>May</td>\n",
       "      <td>8616.278</td>\n",
       "      <td>0.232</td>\n",
       "      <td>8616.278</td>\n",
       "      <td>0.232</td>\n",
       "      <td>105734.657</td>\n",
       "      <td>0.442</td>\n",
       "      <td>99015.806</td>\n",
       "      <td>3.242</td>\n",
       "      <td>105718.639</td>\n",
       "      <td>5.259</td>\n",
       "    </tr>\n",
       "    <tr>\n",
       "      <th>5</th>\n",
       "      <td>June</td>\n",
       "      <td>34489.417</td>\n",
       "      <td>0.159</td>\n",
       "      <td>34489.417</td>\n",
       "      <td>0.159</td>\n",
       "      <td>53014.543</td>\n",
       "      <td>0.773</td>\n",
       "      <td>79110.833</td>\n",
       "      <td>3.722</td>\n",
       "      <td>NaN</td>\n",
       "      <td>NaN</td>\n",
       "    </tr>\n",
       "    <tr>\n",
       "      <th>6</th>\n",
       "      <td>July</td>\n",
       "      <td>10245.306</td>\n",
       "      <td>0.149</td>\n",
       "      <td>10245.306</td>\n",
       "      <td>0.149</td>\n",
       "      <td>88037.118</td>\n",
       "      <td>0.770</td>\n",
       "      <td>78357.722</td>\n",
       "      <td>5.383</td>\n",
       "      <td>NaN</td>\n",
       "      <td>NaN</td>\n",
       "    </tr>\n",
       "    <tr>\n",
       "      <th>7</th>\n",
       "      <td>August</td>\n",
       "      <td>11805.722</td>\n",
       "      <td>0.161</td>\n",
       "      <td>11805.722</td>\n",
       "      <td>0.161</td>\n",
       "      <td>88020.371</td>\n",
       "      <td>0.796</td>\n",
       "      <td>78165.667</td>\n",
       "      <td>7.882</td>\n",
       "      <td>NaN</td>\n",
       "      <td>NaN</td>\n",
       "    </tr>\n",
       "    <tr>\n",
       "      <th>8</th>\n",
       "      <td>September</td>\n",
       "      <td>34494.611</td>\n",
       "      <td>0.120</td>\n",
       "      <td>34494.611</td>\n",
       "      <td>0.120</td>\n",
       "      <td>68065.429</td>\n",
       "      <td>0.672</td>\n",
       "      <td>76102.750</td>\n",
       "      <td>6.027</td>\n",
       "      <td>NaN</td>\n",
       "      <td>NaN</td>\n",
       "    </tr>\n",
       "    <tr>\n",
       "      <th>9</th>\n",
       "      <td>October</td>\n",
       "      <td>24072.278</td>\n",
       "      <td>0.112</td>\n",
       "      <td>24072.278</td>\n",
       "      <td>0.112</td>\n",
       "      <td>111969.943</td>\n",
       "      <td>0.765</td>\n",
       "      <td>89861.083</td>\n",
       "      <td>7.634</td>\n",
       "      <td>NaN</td>\n",
       "      <td>NaN</td>\n",
       "    </tr>\n",
       "    <tr>\n",
       "      <th>10</th>\n",
       "      <td>November</td>\n",
       "      <td>24089.250</td>\n",
       "      <td>0.129</td>\n",
       "      <td>24089.250</td>\n",
       "      <td>0.129</td>\n",
       "      <td>88180.457</td>\n",
       "      <td>1.179</td>\n",
       "      <td>108038.083</td>\n",
       "      <td>4.795</td>\n",
       "      <td>NaN</td>\n",
       "      <td>NaN</td>\n",
       "    </tr>\n",
       "    <tr>\n",
       "      <th>11</th>\n",
       "      <td>December</td>\n",
       "      <td>60388.111</td>\n",
       "      <td>0.120</td>\n",
       "      <td>60388.111</td>\n",
       "      <td>0.120</td>\n",
       "      <td>132342.314</td>\n",
       "      <td>0.840</td>\n",
       "      <td>100980.111</td>\n",
       "      <td>6.081</td>\n",
       "      <td>NaN</td>\n",
       "      <td>NaN</td>\n",
       "    </tr>\n",
       "  </tbody>\n",
       "</table>\n",
       "</div>"
      ],
      "text/plain": [
       "         Mois   Vol_2019  Price_2019   Vol_2020  Price_2020    Vol_2021  \\\n",
       "0     January        NaN         NaN  60244.139       0.194   59720.333   \n",
       "1    February        NaN         NaN  82006.833       0.178  100012.639   \n",
       "2       March  29111.694       0.181  29111.694       0.181   96112.278   \n",
       "3       April  36132.833       0.188  36132.833       0.188   82881.833   \n",
       "4         May   8616.278       0.232   8616.278       0.232  105734.657   \n",
       "5        June  34489.417       0.159  34489.417       0.159   53014.543   \n",
       "6        July  10245.306       0.149  10245.306       0.149   88037.118   \n",
       "7      August  11805.722       0.161  11805.722       0.161   88020.371   \n",
       "8   September  34494.611       0.120  34494.611       0.120   68065.429   \n",
       "9     October  24072.278       0.112  24072.278       0.112  111969.943   \n",
       "10   November  24089.250       0.129  24089.250       0.129   88180.457   \n",
       "11   December  60388.111       0.120  60388.111       0.120  132342.314   \n",
       "\n",
       "    Price_2021    Vol_2022  Price_2022    Vol_2023  Price_2023  \n",
       "0        0.304  104030.861       1.959  123847.056       7.435  \n",
       "1        0.526  148184.167       1.892   81961.611       7.576  \n",
       "2        0.428  116637.694       1.906  137415.750       6.096  \n",
       "3        0.454  117951.750       2.229  104428.639       5.830  \n",
       "4        0.442   99015.806       3.242  105718.639       5.259  \n",
       "5        0.773   79110.833       3.722         NaN         NaN  \n",
       "6        0.770   78357.722       5.383         NaN         NaN  \n",
       "7        0.796   78165.667       7.882         NaN         NaN  \n",
       "8        0.672   76102.750       6.027         NaN         NaN  \n",
       "9        0.765   89861.083       7.634         NaN         NaN  \n",
       "10       1.179  108038.083       4.795         NaN         NaN  \n",
       "11       0.840  100980.111       6.081         NaN         NaN  "
      ]
     },
     "execution_count": 56,
     "metadata": {},
     "output_type": "execute_result"
    }
   ],
   "source": [
    "df"
   ]
  },
  {
   "cell_type": "code",
   "execution_count": 57,
   "id": "ba6caa3c",
   "metadata": {},
   "outputs": [],
   "source": [
    "Vol_2019 = df['Vol_2019'][2:].to_list()\n",
    "Vol_2020 = df['Vol_2020'].to_list()\n",
    "Vol_2021 = df['Vol_2021'].to_list()\n",
    "Vol_2022 = df['Vol_2022'].to_list()\n",
    "Vol_2023 = df['Vol_2023'][:5].to_list()\n",
    "\n",
    "Price_2019 = df['Price_2019'][2:].to_list()\n",
    "Price_2020 = df['Price_2020'].to_list()\n",
    "Price_2021 = df['Price_2021'].to_list()\n",
    "Price_2022 = df['Price_2022'].to_list()\n",
    "Price_2023 = df['Price_2023'][:5].to_list()"
   ]
  },
  {
   "cell_type": "code",
   "execution_count": 58,
   "id": "7db32231",
   "metadata": {},
   "outputs": [],
   "source": [
    "X = Vol_2019 + Vol_2020 + Vol_2021 + Vol_2022 + Vol_2023\n",
    "y = Price_2019 + Price_2020 + Price_2021 + Price_2022 + Price_2023"
   ]
  },
  {
   "cell_type": "markdown",
   "id": "977f182f",
   "metadata": {},
   "source": [
    "**Regression (année d'étude : 2020-2023)**"
   ]
  },
  {
   "cell_type": "code",
   "execution_count": 59,
   "id": "b20742bb",
   "metadata": {},
   "outputs": [],
   "source": [
    "from sklearn.model_selection import train_test_split\n",
    "X_train, X_test, y_train, y_test = train_test_split(X, y, test_size = 1/3, random_state = 0)\n",
    "\n",
    "# Convert to numpy array\n",
    "X_train = np.array(X_train)\n",
    "X_test = np.array(X_train)\n",
    "\n",
    "# Reshape\n",
    "X_train = X_train.reshape(-1, 1)\n",
    "X_test = X_test.reshape(-1, 1)"
   ]
  },
  {
   "cell_type": "code",
   "execution_count": 60,
   "id": "15a5f606",
   "metadata": {},
   "outputs": [
    {
     "data": {
      "text/html": [
       "<style>#sk-container-id-3 {color: black;}#sk-container-id-3 pre{padding: 0;}#sk-container-id-3 div.sk-toggleable {background-color: white;}#sk-container-id-3 label.sk-toggleable__label {cursor: pointer;display: block;width: 100%;margin-bottom: 0;padding: 0.3em;box-sizing: border-box;text-align: center;}#sk-container-id-3 label.sk-toggleable__label-arrow:before {content: \"▸\";float: left;margin-right: 0.25em;color: #696969;}#sk-container-id-3 label.sk-toggleable__label-arrow:hover:before {color: black;}#sk-container-id-3 div.sk-estimator:hover label.sk-toggleable__label-arrow:before {color: black;}#sk-container-id-3 div.sk-toggleable__content {max-height: 0;max-width: 0;overflow: hidden;text-align: left;background-color: #f0f8ff;}#sk-container-id-3 div.sk-toggleable__content pre {margin: 0.2em;color: black;border-radius: 0.25em;background-color: #f0f8ff;}#sk-container-id-3 input.sk-toggleable__control:checked~div.sk-toggleable__content {max-height: 200px;max-width: 100%;overflow: auto;}#sk-container-id-3 input.sk-toggleable__control:checked~label.sk-toggleable__label-arrow:before {content: \"▾\";}#sk-container-id-3 div.sk-estimator input.sk-toggleable__control:checked~label.sk-toggleable__label {background-color: #d4ebff;}#sk-container-id-3 div.sk-label input.sk-toggleable__control:checked~label.sk-toggleable__label {background-color: #d4ebff;}#sk-container-id-3 input.sk-hidden--visually {border: 0;clip: rect(1px 1px 1px 1px);clip: rect(1px, 1px, 1px, 1px);height: 1px;margin: -1px;overflow: hidden;padding: 0;position: absolute;width: 1px;}#sk-container-id-3 div.sk-estimator {font-family: monospace;background-color: #f0f8ff;border: 1px dotted black;border-radius: 0.25em;box-sizing: border-box;margin-bottom: 0.5em;}#sk-container-id-3 div.sk-estimator:hover {background-color: #d4ebff;}#sk-container-id-3 div.sk-parallel-item::after {content: \"\";width: 100%;border-bottom: 1px solid gray;flex-grow: 1;}#sk-container-id-3 div.sk-label:hover label.sk-toggleable__label {background-color: #d4ebff;}#sk-container-id-3 div.sk-serial::before {content: \"\";position: absolute;border-left: 1px solid gray;box-sizing: border-box;top: 0;bottom: 0;left: 50%;z-index: 0;}#sk-container-id-3 div.sk-serial {display: flex;flex-direction: column;align-items: center;background-color: white;padding-right: 0.2em;padding-left: 0.2em;position: relative;}#sk-container-id-3 div.sk-item {position: relative;z-index: 1;}#sk-container-id-3 div.sk-parallel {display: flex;align-items: stretch;justify-content: center;background-color: white;position: relative;}#sk-container-id-3 div.sk-item::before, #sk-container-id-3 div.sk-parallel-item::before {content: \"\";position: absolute;border-left: 1px solid gray;box-sizing: border-box;top: 0;bottom: 0;left: 50%;z-index: -1;}#sk-container-id-3 div.sk-parallel-item {display: flex;flex-direction: column;z-index: 1;position: relative;background-color: white;}#sk-container-id-3 div.sk-parallel-item:first-child::after {align-self: flex-end;width: 50%;}#sk-container-id-3 div.sk-parallel-item:last-child::after {align-self: flex-start;width: 50%;}#sk-container-id-3 div.sk-parallel-item:only-child::after {width: 0;}#sk-container-id-3 div.sk-dashed-wrapped {border: 1px dashed gray;margin: 0 0.4em 0.5em 0.4em;box-sizing: border-box;padding-bottom: 0.4em;background-color: white;}#sk-container-id-3 div.sk-label label {font-family: monospace;font-weight: bold;display: inline-block;line-height: 1.2em;}#sk-container-id-3 div.sk-label-container {text-align: center;}#sk-container-id-3 div.sk-container {/* jupyter's `normalize.less` sets `[hidden] { display: none; }` but bootstrap.min.css set `[hidden] { display: none !important; }` so we also need the `!important` here to be able to override the default hidden behavior on the sphinx rendered scikit-learn.org. See: https://github.com/scikit-learn/scikit-learn/issues/21755 */display: inline-block !important;position: relative;}#sk-container-id-3 div.sk-text-repr-fallback {display: none;}</style><div id=\"sk-container-id-3\" class=\"sk-top-container\"><div class=\"sk-text-repr-fallback\"><pre>LinearRegression()</pre><b>In a Jupyter environment, please rerun this cell to show the HTML representation or trust the notebook. <br />On GitHub, the HTML representation is unable to render, please try loading this page with nbviewer.org.</b></div><div class=\"sk-container\" hidden><div class=\"sk-item\"><div class=\"sk-estimator sk-toggleable\"><input class=\"sk-toggleable__control sk-hidden--visually\" id=\"sk-estimator-id-3\" type=\"checkbox\" checked><label for=\"sk-estimator-id-3\" class=\"sk-toggleable__label sk-toggleable__label-arrow\">LinearRegression</label><div class=\"sk-toggleable__content\"><pre>LinearRegression()</pre></div></div></div></div></div>"
      ],
      "text/plain": [
       "LinearRegression()"
      ]
     },
     "execution_count": 60,
     "metadata": {},
     "output_type": "execute_result"
    }
   ],
   "source": [
    "from sklearn import datasets, linear_model\n",
    "\n",
    "# Model\n",
    "\n",
    "from sklearn.linear_model import LinearRegression\n",
    "regressor = linear_model.LinearRegression()\n",
    "regressor.fit(X_train, y_train)"
   ]
  },
  {
   "cell_type": "code",
   "execution_count": 61,
   "id": "23006285",
   "metadata": {},
   "outputs": [
    {
     "data": {
      "text/plain": [
       "[<matplotlib.lines.Line2D at 0x1f0900e5650>]"
      ]
     },
     "execution_count": 61,
     "metadata": {},
     "output_type": "execute_result"
    },
    {
     "data": {
      "image/png": "[encoded data removed]",
      "text/plain": [
       "<Figure size 640x480 with 1 Axes>"
      ]
     },
     "metadata": {},
     "output_type": "display_data"
    }
   ],
   "source": [
    "# Visualising the Training set results\n",
    "\n",
    "plt.scatter(X_train, y_train, color = 'red')\n",
    "plt.plot(X_train, regressor.predict(X_train), color = 'blue')"
   ]
  },
  {
   "cell_type": "markdown",
   "id": "83f4d90a",
   "metadata": {},
   "source": [
    "**Regression (année d'étude : 2019-2021)**"
   ]
  },
  {
   "cell_type": "code",
   "execution_count": 62,
   "id": "20b5b64a",
   "metadata": {},
   "outputs": [],
   "source": [
    "X = Vol_2019 + Vol_2020 + Vol_2021 \n",
    "y = Price_2019 + Price_2020 + Price_2021 "
   ]
  },
  {
   "cell_type": "code",
   "execution_count": 63,
   "id": "bc99e6fc",
   "metadata": {},
   "outputs": [],
   "source": [
    "from sklearn.model_selection import train_test_split\n",
    "X_train, X_test, y_train, y_test = train_test_split(X, y, test_size = 1/3, random_state = 0)\n",
    "\n",
    "# Convert to numpy array\n",
    "X_train = np.array(X_train)\n",
    "X_test = np.array(X_train)\n",
    "\n",
    "# Reshape\n",
    "X_train = X_train.reshape(-1, 1)\n",
    "X_test = X_test.reshape(-1, 1)"
   ]
  },
  {
   "cell_type": "code",
   "execution_count": 64,
   "id": "e86cc980",
   "metadata": {},
   "outputs": [
    {
     "data": {
      "text/html": [
       "<style>#sk-container-id-4 {color: black;}#sk-container-id-4 pre{padding: 0;}#sk-container-id-4 div.sk-toggleable {background-color: white;}#sk-container-id-4 label.sk-toggleable__label {cursor: pointer;display: block;width: 100%;margin-bottom: 0;padding: 0.3em;box-sizing: border-box;text-align: center;}#sk-container-id-4 label.sk-toggleable__label-arrow:before {content: \"▸\";float: left;margin-right: 0.25em;color: #696969;}#sk-container-id-4 label.sk-toggleable__label-arrow:hover:before {color: black;}#sk-container-id-4 div.sk-estimator:hover label.sk-toggleable__label-arrow:before {color: black;}#sk-container-id-4 div.sk-toggleable__content {max-height: 0;max-width: 0;overflow: hidden;text-align: left;background-color: #f0f8ff;}#sk-container-id-4 div.sk-toggleable__content pre {margin: 0.2em;color: black;border-radius: 0.25em;background-color: #f0f8ff;}#sk-container-id-4 input.sk-toggleable__control:checked~div.sk-toggleable__content {max-height: 200px;max-width: 100%;overflow: auto;}#sk-container-id-4 input.sk-toggleable__control:checked~label.sk-toggleable__label-arrow:before {content: \"▾\";}#sk-container-id-4 div.sk-estimator input.sk-toggleable__control:checked~label.sk-toggleable__label {background-color: #d4ebff;}#sk-container-id-4 div.sk-label input.sk-toggleable__control:checked~label.sk-toggleable__label {background-color: #d4ebff;}#sk-container-id-4 input.sk-hidden--visually {border: 0;clip: rect(1px 1px 1px 1px);clip: rect(1px, 1px, 1px, 1px);height: 1px;margin: -1px;overflow: hidden;padding: 0;position: absolute;width: 1px;}#sk-container-id-4 div.sk-estimator {font-family: monospace;background-color: #f0f8ff;border: 1px dotted black;border-radius: 0.25em;box-sizing: border-box;margin-bottom: 0.5em;}#sk-container-id-4 div.sk-estimator:hover {background-color: #d4ebff;}#sk-container-id-4 div.sk-parallel-item::after {content: \"\";width: 100%;border-bottom: 1px solid gray;flex-grow: 1;}#sk-container-id-4 div.sk-label:hover label.sk-toggleable__label {background-color: #d4ebff;}#sk-container-id-4 div.sk-serial::before {content: \"\";position: absolute;border-left: 1px solid gray;box-sizing: border-box;top: 0;bottom: 0;left: 50%;z-index: 0;}#sk-container-id-4 div.sk-serial {display: flex;flex-direction: column;align-items: center;background-color: white;padding-right: 0.2em;padding-left: 0.2em;position: relative;}#sk-container-id-4 div.sk-item {position: relative;z-index: 1;}#sk-container-id-4 div.sk-parallel {display: flex;align-items: stretch;justify-content: center;background-color: white;position: relative;}#sk-container-id-4 div.sk-item::before, #sk-container-id-4 div.sk-parallel-item::before {content: \"\";position: absolute;border-left: 1px solid gray;box-sizing: border-box;top: 0;bottom: 0;left: 50%;z-index: -1;}#sk-container-id-4 div.sk-parallel-item {display: flex;flex-direction: column;z-index: 1;position: relative;background-color: white;}#sk-container-id-4 div.sk-parallel-item:first-child::after {align-self: flex-end;width: 50%;}#sk-container-id-4 div.sk-parallel-item:last-child::after {align-self: flex-start;width: 50%;}#sk-container-id-4 div.sk-parallel-item:only-child::after {width: 0;}#sk-container-id-4 div.sk-dashed-wrapped {border: 1px dashed gray;margin: 0 0.4em 0.5em 0.4em;box-sizing: border-box;padding-bottom: 0.4em;background-color: white;}#sk-container-id-4 div.sk-label label {font-family: monospace;font-weight: bold;display: inline-block;line-height: 1.2em;}#sk-container-id-4 div.sk-label-container {text-align: center;}#sk-container-id-4 div.sk-container {/* jupyter's `normalize.less` sets `[hidden] { display: none; }` but bootstrap.min.css set `[hidden] { display: none !important; }` so we also need the `!important` here to be able to override the default hidden behavior on the sphinx rendered scikit-learn.org. See: https://github.com/scikit-learn/scikit-learn/issues/21755 */display: inline-block !important;position: relative;}#sk-container-id-4 div.sk-text-repr-fallback {display: none;}</style><div id=\"sk-container-id-4\" class=\"sk-top-container\"><div class=\"sk-text-repr-fallback\"><pre>LinearRegression()</pre><b>In a Jupyter environment, please rerun this cell to show the HTML representation or trust the notebook. <br />On GitHub, the HTML representation is unable to render, please try loading this page with nbviewer.org.</b></div><div class=\"sk-container\" hidden><div class=\"sk-item\"><div class=\"sk-estimator sk-toggleable\"><input class=\"sk-toggleable__control sk-hidden--visually\" id=\"sk-estimator-id-4\" type=\"checkbox\" checked><label for=\"sk-estimator-id-4\" class=\"sk-toggleable__label sk-toggleable__label-arrow\">LinearRegression</label><div class=\"sk-toggleable__content\"><pre>LinearRegression()</pre></div></div></div></div></div>"
      ],
      "text/plain": [
       "LinearRegression()"
      ]
     },
     "execution_count": 64,
     "metadata": {},
     "output_type": "execute_result"
    }
   ],
   "source": [
    "from sklearn import datasets, linear_model\n",
    "\n",
    "# Model\n",
    "\n",
    "from sklearn.linear_model import LinearRegression\n",
    "regressor = linear_model.LinearRegression()\n",
    "regressor.fit(X_train, y_train)"
   ]
  },
  {
   "cell_type": "code",
   "execution_count": 65,
   "id": "6a18e756",
   "metadata": {},
   "outputs": [
    {
     "data": {
      "text/plain": [
       "[<matplotlib.lines.Line2D at 0x1f0900c9810>]"
      ]
     },
     "execution_count": 65,
     "metadata": {},
     "output_type": "execute_result"
    },
    {
     "data": {
      "image/png": "[encoded data removed]",
      "text/plain": [
       "<Figure size 640x480 with 1 Axes>"
      ]
     },
     "metadata": {},
     "output_type": "display_data"
    }
   ],
   "source": [
    "# Visualising the Training set results\n",
    "\n",
    "plt.scatter(X_train, y_train, color = 'red')\n",
    "plt.plot(X_train, regressor.predict(X_train), color = 'blue')"
   ]
  },
  {
   "cell_type": "code",
   "execution_count": 66,
   "id": "64d34987",
   "metadata": {},
   "outputs": [],
   "source": [
    "# Convert to numpy array\n",
    "X = np.array(X)\n",
    "X = np.array(X)\n",
    "\n",
    "# Reshape\n",
    "X = X.reshape(-1, 1)\n",
    "X = X.reshape(-1, 1)"
   ]
  },
  {
   "cell_type": "code",
   "execution_count": 67,
   "id": "a18e940d",
   "metadata": {},
   "outputs": [
    {
     "data": {
      "text/plain": [
       "0.4286511735684082"
      ]
     },
     "execution_count": 67,
     "metadata": {},
     "output_type": "execute_result"
    }
   ],
   "source": [
    "regressor.score(X,y)"
   ]
  }
 ],
 "metadata": {
  "kernelspec": {
   "display_name": "Python 3 (ipykernel)",
   "language": "python",
   "name": "python3"
  },
  "language_info": {
   "codemirror_mode": {
    "name": "ipython",
    "version": 3
   },
   "file_extension": ".py",
   "mimetype": "text/x-python",
   "name": "python",
   "nbconvert_exporter": "python",
   "pygments_lexer": "ipython3",
   "version": "3.11.4"
  }
 },
 "nbformat": 4,
 "nbformat_minor": 5
}
